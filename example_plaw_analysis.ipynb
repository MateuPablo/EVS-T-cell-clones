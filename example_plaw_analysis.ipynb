{
 "cells": [
  {
   "cell_type": "markdown",
   "id": "efd011de",
   "metadata": {},
   "source": [
    "# Analysis of power law distributions"
   ]
  },
  {
   "cell_type": "markdown",
   "id": "e4801df2",
   "metadata": {},
   "source": [
    "This code is an example on how to apply the file 'power_law_analysis.py' to the analysis of the power law distributions of repertoires.\n",
    "\n",
    "The notebook contains:\n",
    "1. Analysis of the distribution"
   ]
  },
  {
   "cell_type": "markdown",
   "id": "3ca86ffd",
   "metadata": {},
   "source": [
    "## Imports"
   ]
  },
  {
   "cell_type": "markdown",
   "id": "439be284",
   "metadata": {},
   "source": [
    "- _numpy_ for math operations\n",
    "- _matplotlib_ for graphic representations\n",
    "- _pandas_ for operations with DataFrames\n",
    "- _lmfit_ for non-linear least squares fitting \n",
    "- _power_law_analysis_ for the characterisation of the power law distributions"
   ]
  },
  {
   "cell_type": "code",
   "execution_count": 1,
   "id": "0f485897",
   "metadata": {},
   "outputs": [],
   "source": [
    "import numpy as np\n",
    "import matplotlib.pyplot as plt\n",
    "import matplotlib.colors as mcolors\n",
    "import pandas as pd\n",
    "from lmfit import Model, Parameters\n",
    "import power_law_analysis as plw"
   ]
  },
  {
   "cell_type": "markdown",
   "id": "c6d895e7",
   "metadata": {},
   "source": [
    "## Loading data"
   ]
  },
  {
   "cell_type": "markdown",
   "id": "bc955c39",
   "metadata": {},
   "source": [
    "To read the repertoires, the user needs to create:\n",
    "\n",
    "- directory_read_patients: directory where all the repertoires are stored\n",
    "- reduced_patients.txt: .txt file that contains, in separate rows, all the dataset names and is stored in the same directory"
   ]
  },
  {
   "cell_type": "code",
   "execution_count": 2,
   "id": "21a8ac37",
   "metadata": {},
   "outputs": [],
   "source": [
    "read_path = '/home/pablo/Documentos/internship/emerson/files_red_bis/'\n",
    "file_patients = 'reduced_patients.txt'\n",
    "reduced_patients = pd.read_csv(read_path+file_patients, names=['file_patients'])"
   ]
  },
  {
   "cell_type": "code",
   "execution_count": 3,
   "id": "bd0ea520",
   "metadata": {},
   "outputs": [
    {
     "data": {
      "text/html": [
       "<div>\n",
       "<style scoped>\n",
       "    .dataframe tbody tr th:only-of-type {\n",
       "        vertical-align: middle;\n",
       "    }\n",
       "\n",
       "    .dataframe tbody tr th {\n",
       "        vertical-align: top;\n",
       "    }\n",
       "\n",
       "    .dataframe thead th {\n",
       "        text-align: right;\n",
       "    }\n",
       "</style>\n",
       "<table border=\"1\" class=\"dataframe\">\n",
       "  <thead>\n",
       "    <tr style=\"text-align: right;\">\n",
       "      <th></th>\n",
       "      <th>file_patients</th>\n",
       "    </tr>\n",
       "  </thead>\n",
       "  <tbody>\n",
       "    <tr>\n",
       "      <th>0</th>\n",
       "      <td>HIP00110.tsv.gz</td>\n",
       "    </tr>\n",
       "    <tr>\n",
       "      <th>1</th>\n",
       "      <td>HIP00169.tsv.gz</td>\n",
       "    </tr>\n",
       "    <tr>\n",
       "      <th>2</th>\n",
       "      <td>HIP00594.tsv.gz</td>\n",
       "    </tr>\n",
       "    <tr>\n",
       "      <th>3</th>\n",
       "      <td>HIP00602.tsv.gz</td>\n",
       "    </tr>\n",
       "    <tr>\n",
       "      <th>4</th>\n",
       "      <td>HIP00614.tsv.gz</td>\n",
       "    </tr>\n",
       "    <tr>\n",
       "      <th>...</th>\n",
       "      <td>...</td>\n",
       "    </tr>\n",
       "    <tr>\n",
       "      <th>627</th>\n",
       "      <td>HIP17887.tsv.gz</td>\n",
       "    </tr>\n",
       "    <tr>\n",
       "      <th>628</th>\n",
       "      <td>HIP19048.tsv.gz</td>\n",
       "    </tr>\n",
       "    <tr>\n",
       "      <th>629</th>\n",
       "      <td>HIP19089.tsv.gz</td>\n",
       "    </tr>\n",
       "    <tr>\n",
       "      <th>630</th>\n",
       "      <td>HIP19716.tsv.gz</td>\n",
       "    </tr>\n",
       "    <tr>\n",
       "      <th>631</th>\n",
       "      <td>HIP19717.tsv.gz</td>\n",
       "    </tr>\n",
       "  </tbody>\n",
       "</table>\n",
       "<p>632 rows × 1 columns</p>\n",
       "</div>"
      ],
      "text/plain": [
       "       file_patients\n",
       "0    HIP00110.tsv.gz\n",
       "1    HIP00169.tsv.gz\n",
       "2    HIP00594.tsv.gz\n",
       "3    HIP00602.tsv.gz\n",
       "4    HIP00614.tsv.gz\n",
       "..               ...\n",
       "627  HIP17887.tsv.gz\n",
       "628  HIP19048.tsv.gz\n",
       "629  HIP19089.tsv.gz\n",
       "630  HIP19716.tsv.gz\n",
       "631  HIP19717.tsv.gz\n",
       "\n",
       "[632 rows x 1 columns]"
      ]
     },
     "execution_count": 3,
     "metadata": {},
     "output_type": "execute_result"
    }
   ],
   "source": [
    "reduced_patients"
   ]
  },
  {
   "cell_type": "markdown",
   "id": "638c2afc",
   "metadata": {},
   "source": [
    "## 1. Analysis of the distribution"
   ]
  },
  {
   "cell_type": "markdown",
   "id": "6fbb1fdd",
   "metadata": {},
   "source": [
    "For an example sample of L = 10 patients:\n",
    "\n",
    "- The function 'exponent_fit' provides a fit of the patient's repertoire to a power law\n",
    "- The function 'exponent_analysis' prepares the resulting exponents for their posterior analysis\n",
    "\n",
    "Change L = 10 for L = len(reduced_patients) to obtain the full set of Emerson exponents"
   ]
  },
  {
   "cell_type": "markdown",
   "id": "645cd462",
   "metadata": {},
   "source": [
    "### A. Fit to power law"
   ]
  },
  {
   "cell_type": "code",
   "execution_count": 4,
   "id": "dd5d6f4f",
   "metadata": {},
   "outputs": [
    {
     "data": {
      "image/png": "[encoded data removed]",
      "text/plain": [
       "<Figure size 1050x450 with 2 Axes>"
      ]
     },
     "metadata": {},
     "output_type": "display_data"
    }
   ],
   "source": [
    "fit_results = []\n",
    "for file_name in reduced_patients['file_patients'][:10]:\n",
    "    plt.close()\n",
    "    fit_results.append(plw.exponent_fit(file_name, read_path))\n",
    "plt.show()"
   ]
  },
  {
   "cell_type": "code",
   "execution_count": 5,
   "id": "b0b2b9e9",
   "metadata": {},
   "outputs": [
    {
     "data": {
      "text/html": [
       "<div>\n",
       "<style scoped>\n",
       "    .dataframe tbody tr th:only-of-type {\n",
       "        vertical-align: middle;\n",
       "    }\n",
       "\n",
       "    .dataframe tbody tr th {\n",
       "        vertical-align: top;\n",
       "    }\n",
       "\n",
       "    .dataframe thead th {\n",
       "        text-align: right;\n",
       "    }\n",
       "</style>\n",
       "<table border=\"1\" class=\"dataframe\">\n",
       "  <thead>\n",
       "    <tr style=\"text-align: right;\">\n",
       "      <th></th>\n",
       "      <th>a</th>\n",
       "      <th>r2</th>\n",
       "      <th>valid</th>\n",
       "    </tr>\n",
       "  </thead>\n",
       "  <tbody>\n",
       "    <tr>\n",
       "      <th>0</th>\n",
       "      <td>1.280064</td>\n",
       "      <td>0.996022</td>\n",
       "      <td>yes</td>\n",
       "    </tr>\n",
       "    <tr>\n",
       "      <th>1</th>\n",
       "      <td>1.160175</td>\n",
       "      <td>0.985273</td>\n",
       "      <td>yes</td>\n",
       "    </tr>\n",
       "    <tr>\n",
       "      <th>2</th>\n",
       "      <td>0.778580</td>\n",
       "      <td>0.973761</td>\n",
       "      <td>no</td>\n",
       "    </tr>\n",
       "    <tr>\n",
       "      <th>3</th>\n",
       "      <td>1.157690</td>\n",
       "      <td>0.990460</td>\n",
       "      <td>yes</td>\n",
       "    </tr>\n",
       "    <tr>\n",
       "      <th>4</th>\n",
       "      <td>1.579612</td>\n",
       "      <td>0.988991</td>\n",
       "      <td>yes</td>\n",
       "    </tr>\n",
       "    <tr>\n",
       "      <th>5</th>\n",
       "      <td>1.532749</td>\n",
       "      <td>0.992784</td>\n",
       "      <td>yes</td>\n",
       "    </tr>\n",
       "    <tr>\n",
       "      <th>6</th>\n",
       "      <td>1.010430</td>\n",
       "      <td>0.996776</td>\n",
       "      <td>yes</td>\n",
       "    </tr>\n",
       "    <tr>\n",
       "      <th>7</th>\n",
       "      <td>1.905079</td>\n",
       "      <td>0.983078</td>\n",
       "      <td>yes</td>\n",
       "    </tr>\n",
       "    <tr>\n",
       "      <th>8</th>\n",
       "      <td>1.190244</td>\n",
       "      <td>0.982857</td>\n",
       "      <td>yes</td>\n",
       "    </tr>\n",
       "    <tr>\n",
       "      <th>9</th>\n",
       "      <td>1.278843</td>\n",
       "      <td>0.992299</td>\n",
       "      <td>yes</td>\n",
       "    </tr>\n",
       "  </tbody>\n",
       "</table>\n",
       "</div>"
      ],
      "text/plain": [
       "          a        r2 valid\n",
       "0  1.280064  0.996022   yes\n",
       "1  1.160175  0.985273   yes\n",
       "2  0.778580  0.973761    no\n",
       "3  1.157690  0.990460   yes\n",
       "4  1.579612  0.988991   yes\n",
       "5  1.532749  0.992784   yes\n",
       "6  1.010430  0.996776   yes\n",
       "7  1.905079  0.983078   yes\n",
       "8  1.190244  0.982857   yes\n",
       "9  1.278843  0.992299   yes"
      ]
     },
     "execution_count": 5,
     "metadata": {},
     "output_type": "execute_result"
    }
   ],
   "source": [
    "fit_results = pd.DataFrame(fit_results, columns = ['a', 'r2', 'valid'])\n",
    "fit_results"
   ]
  },
  {
   "cell_type": "markdown",
   "id": "a6b5636d",
   "metadata": {},
   "source": [
    "### B. Analysis of the fit results"
   ]
  },
  {
   "cell_type": "code",
   "execution_count": 6,
   "id": "662f5f4b",
   "metadata": {},
   "outputs": [
    {
     "data": {
      "text/html": [
       "<div>\n",
       "<style scoped>\n",
       "    .dataframe tbody tr th:only-of-type {\n",
       "        vertical-align: middle;\n",
       "    }\n",
       "\n",
       "    .dataframe tbody tr th {\n",
       "        vertical-align: top;\n",
       "    }\n",
       "\n",
       "    .dataframe thead th {\n",
       "        text-align: right;\n",
       "    }\n",
       "</style>\n",
       "<table border=\"1\" class=\"dataframe\">\n",
       "  <thead>\n",
       "    <tr style=\"text-align: right;\">\n",
       "      <th></th>\n",
       "      <th>a</th>\n",
       "      <th>b</th>\n",
       "    </tr>\n",
       "  </thead>\n",
       "  <tbody>\n",
       "    <tr>\n",
       "      <th>0</th>\n",
       "      <td>1.280064</td>\n",
       "      <td>-0.552743</td>\n",
       "    </tr>\n",
       "    <tr>\n",
       "      <th>1</th>\n",
       "      <td>1.160175</td>\n",
       "      <td>-0.795406</td>\n",
       "    </tr>\n",
       "    <tr>\n",
       "      <th>3</th>\n",
       "      <td>1.157690</td>\n",
       "      <td>-0.802196</td>\n",
       "    </tr>\n",
       "    <tr>\n",
       "      <th>4</th>\n",
       "      <td>1.579612</td>\n",
       "      <td>-0.236862</td>\n",
       "    </tr>\n",
       "    <tr>\n",
       "      <th>5</th>\n",
       "      <td>1.532749</td>\n",
       "      <td>-0.273477</td>\n",
       "    </tr>\n",
       "    <tr>\n",
       "      <th>6</th>\n",
       "      <td>1.010430</td>\n",
       "      <td>-1.981717</td>\n",
       "    </tr>\n",
       "    <tr>\n",
       "      <th>7</th>\n",
       "      <td>1.905079</td>\n",
       "      <td>-0.043313</td>\n",
       "    </tr>\n",
       "    <tr>\n",
       "      <th>8</th>\n",
       "      <td>1.190244</td>\n",
       "      <td>-0.720690</td>\n",
       "    </tr>\n",
       "    <tr>\n",
       "      <th>9</th>\n",
       "      <td>1.278843</td>\n",
       "      <td>-0.554641</td>\n",
       "    </tr>\n",
       "  </tbody>\n",
       "</table>\n",
       "</div>"
      ],
      "text/plain": [
       "          a         b\n",
       "0  1.280064 -0.552743\n",
       "1  1.160175 -0.795406\n",
       "3  1.157690 -0.802196\n",
       "4  1.579612 -0.236862\n",
       "5  1.532749 -0.273477\n",
       "6  1.010430 -1.981717\n",
       "7  1.905079 -0.043313\n",
       "8  1.190244 -0.720690\n",
       "9  1.278843 -0.554641"
      ]
     },
     "execution_count": 6,
     "metadata": {},
     "output_type": "execute_result"
    }
   ],
   "source": [
    "analysis_results = plw.exponent_analysis(fit_results)\n",
    "analysis_results"
   ]
  }
 ],
 "metadata": {
  "kernelspec": {
   "display_name": "Python 3 (ipykernel)",
   "language": "python",
   "name": "python3"
  },
  "language_info": {
   "codemirror_mode": {
    "name": "ipython",
    "version": 3
   },
   "file_extension": ".py",
   "mimetype": "text/x-python",
   "name": "python",
   "nbconvert_exporter": "python",
   "pygments_lexer": "ipython3",
   "version": "3.9.13"
  }
 },
 "nbformat": 4,
 "nbformat_minor": 5
}
