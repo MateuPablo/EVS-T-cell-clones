{
 "cells": [
  {
   "cell_type": "markdown",
   "id": "4d98017b",
   "metadata": {},
   "source": [
    "# Numerical simulation of normalised top clone data"
   ]
  },
  {
   "cell_type": "markdown",
   "id": "978787ec",
   "metadata": {},
   "source": [
    "The file 'normalised_plaw_generator.py' allows to generate sequences of clonotype frequencies with a normalisation condition like the delta function over the joint probability and a universal power law exponent\n",
    "\n",
    "The notebook contains:\n",
    "1. Repertoire generation\n",
    "2. Top clones"
   ]
  },
  {
   "cell_type": "markdown",
   "id": "fbfac371",
   "metadata": {},
   "source": [
    "## Imports"
   ]
  },
  {
   "cell_type": "markdown",
   "id": "b5f2f9f8",
   "metadata": {},
   "source": [
    "- _numpy_ for math operations\n",
    "- _matplotlib.pyplot_ for graphic representations\n",
    "- _normalised_plaw_generator_ for numerical clonotype data simulations"
   ]
  },
  {
   "cell_type": "code",
   "execution_count": 1,
   "id": "08f47b58-42d1-4e2f-a626-f4744ebe276a",
   "metadata": {},
   "outputs": [],
   "source": [
    "import numpy as np\n",
    "import matplotlib.pyplot as plt\n",
    "import normalised_plaw_generator as npl"
   ]
  },
  {
   "cell_type": "markdown",
   "id": "09463cbf",
   "metadata": {},
   "source": [
    "## 1. Repertoire generation"
   ]
  },
  {
   "cell_type": "markdown",
   "id": "5844a306",
   "metadata": {},
   "source": [
    "Different parameters need to be fixed to simulate strongly normalised repertoires\n",
    "- *f_min* : minimum frequency of the repertoire\n",
    "- *n_freqs* : total number of drawn frequencies for each simulation (size of sampled repertoire)\n",
    "- *alpha* : power law characteristic exponent\n",
    "- *R* : number of sequences generated\n",
    "- *N* : diversity of the repertoire (fixed by 1/avg(f))\n",
    "- *df* : accepted normalisation error in the final bin. Final summation is 1 +- df/2\n",
    "- *n_chunks* : chunks into which the realisation is divided to save memory"
   ]
  },
  {
   "cell_type": "markdown",
   "id": "f93d81be",
   "metadata": {},
   "source": [
    "### A. Choice of the parameters"
   ]
  },
  {
   "cell_type": "code",
   "execution_count": 2,
   "id": "82207e22-4a46-4ad8-83b4-0ecae25cecb7",
   "metadata": {},
   "outputs": [],
   "source": [
    "f_min = 1/10000\n",
    "n_freqs = 500000\n",
    "alpha = 1.2\n",
    "\n",
    "freqs, probs = npl.generate_plaw_dist(alpha, f_min, n_freqs)\n",
    "f_av = np.sum(probs*freqs)\n",
    "f_var = np.sum(probs*freqs**2) - f_av**2\n",
    "\n",
    "R = 1000000\n",
    "N = int(1/f_av) \n",
    "df = 2/10000 \n",
    "n_chunks = 10"
   ]
  },
  {
   "cell_type": "markdown",
   "id": "ed47a572",
   "metadata": {},
   "source": [
    "### B. Generation of the datasets"
   ]
  },
  {
   "cell_type": "code",
   "execution_count": 3,
   "id": "c237201a",
   "metadata": {},
   "outputs": [
    {
     "name": "stdout",
     "output_type": "stream",
     "text": [
      "Chunk: 1 n samples: 137\n",
      "Chunk: 2 n samples: 126\n",
      "Chunk: 3 n samples: 151\n",
      "Chunk: 4 n samples: 123\n",
      "Chunk: 5 n samples: 117\n",
      "Chunk: 6 n samples: 134\n",
      "Chunk: 7 n samples: 131\n",
      "Chunk: 8 n samples: 131\n",
      "Chunk: 9 n samples: 147\n",
      "Chunk: 10 n samples: 128\n",
      "CPU times: user 7min 9s, sys: 1min 18s, total: 8min 27s\n",
      "Wall time: 8min 28s\n",
      "Total final samples: 1325\n",
      "Non discarderd fraction at each checkpoint: [0.91218  0.895056 0.912292 0.9347   0.960958 0.975603 0.902332 0.711285\n",
      " 0.6889  ]\n"
     ]
    }
   ],
   "source": [
    "sampler = npl.constrained_dist_sampler(freqs, probs, N, R, final_dx = df)  # definition of the problem\n",
    "\n",
    "ks = N - np.logspace(np.log10(2), np.log10(N), 10, dtype = int)[:-1][::-1]  # checkpoints where the sequences \n",
    "                                                                            # that cannot reach one are discarded\n",
    "    \n",
    "%time samples = sampler.run(ks, n_chunks)  # generator of the normalised datasets\n",
    "\n",
    "print('Total final samples:', len(samples))\n",
    "print('Non discarded fraction at each checkpoint:', sampler.fract_good_samples.mean(axis=0))"
   ]
  },
  {
   "cell_type": "markdown",
   "id": "bfdb0bf3",
   "metadata": {},
   "source": [
    "## 2. Top clones"
   ]
  },
  {
   "cell_type": "markdown",
   "id": "a65778ad",
   "metadata": {},
   "source": [
    "The top clone from each of the generated datasets is collected directly from the samples"
   ]
  },
  {
   "cell_type": "code",
   "execution_count": 4,
   "id": "74406c2e",
   "metadata": {},
   "outputs": [
    {
     "data": {
      "image/png": "[encoded data removed]",
      "text/plain": [
       "<Figure size 640x480 with 1 Axes>"
      ]
     },
     "metadata": {},
     "output_type": "display_data"
    }
   ],
   "source": [
    "maxs = np.max(samples, axis = 1)  # top clones\n",
    "\n",
    "fig, (ax1) = plt.subplots(figsize = (6.4, 4.8))  # representation\n",
    "\n",
    "ax1.set_xlabel('Top clone', fontsize=12)\n",
    "ax1.set_ylabel('Density function', fontsize = 12)\n",
    "ax1.hist(maxs, bins = 30, density = True, histtype = 'step', lw=2, label = 'simulated data')\n",
    "ax1.legend()\n",
    "\n",
    "plt.tight_layout()"
   ]
  }
 ],
 "metadata": {
  "kernelspec": {
   "display_name": "Python 3 (ipykernel)",
   "language": "python",
   "name": "python3"
  },
  "language_info": {
   "codemirror_mode": {
    "name": "ipython",
    "version": 3
   },
   "file_extension": ".py",
   "mimetype": "text/x-python",
   "name": "python",
   "nbconvert_exporter": "python",
   "pygments_lexer": "ipython3",
   "version": "3.9.13"
  }
 },
 "nbformat": 4,
 "nbformat_minor": 5
}
